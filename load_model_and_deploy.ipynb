{
 "cells": [
  {
   "cell_type": "code",
   "execution_count": 18,
   "id": "bc3ec530-3643-4dfd-8a8a-e5b9fff6fe96",
   "metadata": {},
   "outputs": [],
   "source": [
    "import sagemaker\n",
    "from sagemaker.model import Model\n",
    "from sagemaker import image_uris\n",
    "from sagemaker.predictor import Predictor\n",
    "from sagemaker.serializers import CSVSerializer, JSONSerializer\n",
    "from sagemaker.deserializers import CSVDeserializer, JSONDeserializer"
   ]
  },
  {
   "cell_type": "code",
   "execution_count": 4,
   "id": "9727a567-2cd4-4ca7-b01f-cebca3fc0ea9",
   "metadata": {},
   "outputs": [],
   "source": [
    "container = image_uris.retrieve(\"xgboost\", \"us-east-1\", \"latest\")"
   ]
  },
  {
   "cell_type": "code",
   "execution_count": 5,
   "id": "bdd6834b-5603-451c-83a5-349786910916",
   "metadata": {},
   "outputs": [],
   "source": [
    "model = Model(image_uri=container, \n",
    "              model_data=\"s3://sagemaker-us-east-1-593538367625/xgboost-2025-10-04-00-59-19-592/output/model.tar.gz\",\n",
    "              role=\"LabRole\")\n",
    "            "
   ]
  },
  {
   "cell_type": "code",
   "execution_count": 7,
   "id": "188c9aec-cee6-41cc-baff-d61cc0aae751",
   "metadata": {},
   "outputs": [
    {
     "name": "stdout",
     "output_type": "stream",
     "text": [
      "-----!"
     ]
    }
   ],
   "source": [
    "model.deploy(\n",
    "    initial_instance_count=1,\n",
    "    instance_type=\"ml.m5.xlarge\",\n",
    "    serializer=CSVSerializer(),\n",
    "    deserializer=CSVDeserializer(),\n",
    ")"
   ]
  },
  {
   "cell_type": "code",
   "execution_count": 22,
   "id": "5ba90561-b046-4083-8e2b-a8d07b9f9a7a",
   "metadata": {},
   "outputs": [],
   "source": [
    "predictor = Predictor(endpoint_name=\"xgboost-2025-10-04-12-57-02-012\")"
   ]
  },
  {
   "cell_type": "code",
   "execution_count": 24,
   "id": "dea2b916-21c2-4403-88f2-5b814aae23d8",
   "metadata": {},
   "outputs": [],
   "source": [
    "#predictor.deserializer = JSONDeserializer()"
   ]
  },
  {
   "cell_type": "code",
   "execution_count": 25,
   "id": "0b343008-ab2c-445f-8427-0074f2ef0700",
   "metadata": {},
   "outputs": [],
   "source": [
    "#predictor.serializer = JSONSerializer()"
   ]
  },
  {
   "cell_type": "code",
   "execution_count": 26,
   "id": "439497e3-78cb-414c-a7bc-3c8320e8253f",
   "metadata": {},
   "outputs": [],
   "source": [
    "#predictor.delete_predictor()"
   ]
  },
  {
   "cell_type": "code",
   "execution_count": null,
   "id": "2ac14ca1-a1bf-4049-b409-f355ee34f900",
   "metadata": {},
   "outputs": [],
   "source": []
  }
 ],
 "metadata": {
  "kernelspec": {
   "display_name": "conda_python3",
   "language": "python",
   "name": "conda_python3"
  },
  "language_info": {
   "codemirror_mode": {
    "name": "ipython",
    "version": 3
   },
   "file_extension": ".py",
   "mimetype": "text/x-python",
   "name": "python",
   "nbconvert_exporter": "python",
   "pygments_lexer": "ipython3",
   "version": "3.10.18"
  }
 },
 "nbformat": 4,
 "nbformat_minor": 5
}
