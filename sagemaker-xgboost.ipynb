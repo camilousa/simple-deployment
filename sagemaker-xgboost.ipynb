{
 "cells": [
  {
   "cell_type": "markdown",
   "id": "dff00b52-6798-4d20-af71-e15269ca758a",
   "metadata": {},
   "source": [
    "## Descargar datos"
   ]
  },
  {
   "cell_type": "code",
   "execution_count": 2,
   "id": "379c1543-687b-4f29-bf6a-d6d23a9156c0",
   "metadata": {},
   "outputs": [
    {
     "name": "stdout",
     "output_type": "stream",
     "text": [
      "--2025-10-03 23:51:45--  https://gist.githubusercontent.com/trantuyen082001/1fc2f5c0ad1507f40e721e6d18b34138/raw/56c3ca73768ceb74cdf6aa20ee7314c47d6ae08e/heart.csv\n",
      "Resolving gist.githubusercontent.com (gist.githubusercontent.com)... 185.199.109.133, 185.199.110.133, 185.199.111.133, ...\n",
      "Connecting to gist.githubusercontent.com (gist.githubusercontent.com)|185.199.109.133|:443... connected.\n",
      "HTTP request sent, awaiting response... 200 OK\n",
      "Length: 11019 (11K) [text/plain]\n",
      "Saving to: ‘data/original/heart.csv’\n",
      "\n",
      "100%[======================================>] 11,019      --.-K/s   in 0s      \n",
      "\n",
      "2025-10-03 23:51:45 (49.4 MB/s) - ‘data/original/heart.csv’ saved [11019/11019]\n",
      "\n"
     ]
    }
   ],
   "source": [
    "!wget https://gist.githubusercontent.com/trantuyen082001/1fc2f5c0ad1507f40e721e6d18b34138/raw/56c3ca73768ceb74cdf6aa20ee7314c47d6ae08e/heart.csv -O data/original/heart.csv"
   ]
  },
  {
   "cell_type": "markdown",
   "id": "39cecdfc-9a0c-404c-8499-961631c28997",
   "metadata": {},
   "source": [
    "## Leer datos y reorganizar"
   ]
  },
  {
   "cell_type": "code",
   "execution_count": 38,
   "id": "bafb6eec-5fa1-4349-bac8-82074a532d22",
   "metadata": {},
   "outputs": [],
   "source": [
    "import pandas as pd\n",
    "from sklearn.model_selection import train_test_split\n",
    "from sagemaker.inputs import TrainingInput\n",
    "from sagemaker import image_uris\n",
    "from sagemaker.estimator import Estimator\n",
    "from sagemaker.serializers import CSVSerializer\n",
    "from sagemaker.deserializers import CSVDeserializer"
   ]
  },
  {
   "cell_type": "code",
   "execution_count": 4,
   "id": "af6ea651-27f7-4eb1-a40c-a3ce8090ce52",
   "metadata": {},
   "outputs": [],
   "source": [
    "df = pd.read_csv(\"data/original/heart.csv\")"
   ]
  },
  {
   "cell_type": "code",
   "execution_count": 6,
   "id": "3ba855a9-586c-4ee9-b31d-b9770e86ad19",
   "metadata": {},
   "outputs": [],
   "source": [
    "last_column = df.pop(\"output\")"
   ]
  },
  {
   "cell_type": "code",
   "execution_count": 9,
   "id": "5f719007-53f4-4b95-a868-9b427ed08468",
   "metadata": {},
   "outputs": [],
   "source": [
    "df.insert(0, \"target\", last_column)"
   ]
  },
  {
   "cell_type": "markdown",
   "id": "a9e4ff5e-9e6e-4e43-8266-5f650d42534d",
   "metadata": {},
   "source": [
    "## Dividir en train y test"
   ]
  },
  {
   "cell_type": "code",
   "execution_count": 14,
   "id": "14a646a1-97af-48d6-8a1e-d83ccc5552f7",
   "metadata": {},
   "outputs": [],
   "source": [
    "train, test = train_test_split(df, test_size=0.3)"
   ]
  },
  {
   "cell_type": "code",
   "execution_count": 16,
   "id": "c9ed905f-0a7b-4a29-a0b1-2622b43e0a9c",
   "metadata": {},
   "outputs": [],
   "source": [
    "train.to_csv(\"data/train.csv\", header=None, index=None)"
   ]
  },
  {
   "cell_type": "code",
   "execution_count": 17,
   "id": "097131c5-47cf-4076-984f-0ce276fbe9a1",
   "metadata": {},
   "outputs": [],
   "source": [
    "test.to_csv(\"data/test.csv\", header=None, index=None)"
   ]
  },
  {
   "cell_type": "code",
   "execution_count": 18,
   "id": "7dabffc9-b702-4266-b10f-752e2f2cad27",
   "metadata": {},
   "outputs": [
    {
     "name": "stdout",
     "output_type": "stream",
     "text": [
      "upload: data/train.csv to s3://sagemaker-data1235/heart/train.csv\n"
     ]
    }
   ],
   "source": [
    "!aws s3 cp data/train.csv s3://sagemaker-data1235/heart/"
   ]
  },
  {
   "cell_type": "code",
   "execution_count": 19,
   "id": "ac702083-c851-4858-b972-1841475503e8",
   "metadata": {},
   "outputs": [
    {
     "name": "stdout",
     "output_type": "stream",
     "text": [
      "upload: data/test.csv to s3://sagemaker-data1235/heart/test.csv\n"
     ]
    }
   ],
   "source": [
    "!aws s3 cp data/test.csv s3://sagemaker-data1235/heart/"
   ]
  },
  {
   "cell_type": "code",
   "execution_count": 21,
   "id": "0202ab67-f8fc-48a6-9415-de0e8b35f47b",
   "metadata": {},
   "outputs": [],
   "source": [
    "train_input = TrainingInput(\"s3://sagemaker-data1235/heart/train.csv\", \n",
    "                            content_type=\"text/csv\")"
   ]
  },
  {
   "cell_type": "code",
   "execution_count": 23,
   "id": "15f96c37-5388-4fa8-8be1-8846c0e80da1",
   "metadata": {},
   "outputs": [],
   "source": [
    "test_input = TrainingInput(\"s3://sagemaker-data1235/heart/test.csv\", \n",
    "                            content_type=\"text/csv\")"
   ]
  },
  {
   "cell_type": "markdown",
   "id": "1f31fdce-5987-4ce6-8682-58f685dd6915",
   "metadata": {},
   "source": [
    "## crear estimador"
   ]
  },
  {
   "cell_type": "code",
   "execution_count": 34,
   "id": "e2f61ae5-76d2-407d-8e3f-59b4489305cc",
   "metadata": {},
   "outputs": [],
   "source": [
    "hyperparameters = {\n",
    "        \"max_depth\":\"5\",\n",
    "        \"objective\":\"binary:logistic\",\n",
    "        \"num_round\":\"50\", \n",
    "        \"eval_metric\": \"error\"}"
   ]
  },
  {
   "cell_type": "code",
   "execution_count": 35,
   "id": "08db2441-3695-443b-a9c3-97de4ff32608",
   "metadata": {},
   "outputs": [],
   "source": [
    "container = image_uris.retrieve(\"xgboost\", \"us-east-1\", \"latest\")"
   ]
  },
  {
   "cell_type": "code",
   "execution_count": 36,
   "id": "e364f651-9bcd-4724-8f84-b892d06feea2",
   "metadata": {},
   "outputs": [],
   "source": [
    "estimator = Estimator(image_uri=container, role=\"LabRole\", \n",
    "                      instance_count=1, instance_type=\"ml.m5.xlarge\",\n",
    "                     hyperparameters=hyperparameters)"
   ]
  },
  {
   "cell_type": "code",
   "execution_count": 37,
   "id": "c4c40c21-c635-456c-aa69-314b1030a76b",
   "metadata": {},
   "outputs": [
    {
     "name": "stderr",
     "output_type": "stream",
     "text": [
      "INFO:sagemaker:Creating training-job with name: xgboost-2025-10-04-00-59-19-592\n"
     ]
    },
    {
     "name": "stdout",
     "output_type": "stream",
     "text": [
      "2025-10-04 00:59:21 Starting - Starting the training job...\n",
      "2025-10-04 00:59:53 Downloading - Downloading input data...\n",
      "2025-10-04 01:00:18 Downloading - Downloading the training image.....\u001b[34mArguments: train\u001b[0m\n",
      "\u001b[34m[2025-10-04:01:01:07:INFO] Running standalone xgboost training.\u001b[0m\n",
      "\u001b[34m[2025-10-04:01:01:07:INFO] File size need to be processed in the node: 0.01mb. Available memory size in the node: 8226.22mb\u001b[0m\n",
      "\u001b[34m[2025-10-04:01:01:07:INFO] Determined delimiter of CSV input is ','\u001b[0m\n",
      "\u001b[34m[01:01:07] S3DistributionType set as FullyReplicated\u001b[0m\n",
      "\u001b[34m[01:01:07] 212x13 matrix with 2756 entries loaded from /opt/ml/input/data/train?format=csv&label_column=0&delimiter=,\u001b[0m\n",
      "\u001b[34m[2025-10-04:01:01:07:INFO] Determined delimiter of CSV input is ','\u001b[0m\n",
      "\u001b[34m[01:01:07] S3DistributionType set as FullyReplicated\u001b[0m\n",
      "\u001b[34m[01:01:07] 91x13 matrix with 1183 entries loaded from /opt/ml/input/data/validation?format=csv&label_column=0&delimiter=,\u001b[0m\n",
      "\u001b[34m[01:01:07] src/tree/updater_prune.cc:74: tree pruning end, 1 roots, 36 extra nodes, 0 pruned nodes, max_depth=5\u001b[0m\n",
      "\u001b[34m[0]#011train-error:0.099057#011validation-error:0.263736\u001b[0m\n",
      "\u001b[34m[01:01:07] src/tree/updater_prune.cc:74: tree pruning end, 1 roots, 34 extra nodes, 0 pruned nodes, max_depth=5\u001b[0m\n",
      "\u001b[34m[1]#011train-error:0.080189#011validation-error:0.252747\u001b[0m\n",
      "\u001b[34m[01:01:07] src/tree/updater_prune.cc:74: tree pruning end, 1 roots, 26 extra nodes, 0 pruned nodes, max_depth=5\u001b[0m\n",
      "\u001b[34m[2]#011train-error:0.075472#011validation-error:0.230769\u001b[0m\n",
      "\u001b[34m[01:01:07] src/tree/updater_prune.cc:74: tree pruning end, 1 roots, 36 extra nodes, 0 pruned nodes, max_depth=5\u001b[0m\n",
      "\u001b[34m[3]#011train-error:0.056604#011validation-error:0.186813\u001b[0m\n",
      "\u001b[34m[01:01:07] src/tree/updater_prune.cc:74: tree pruning end, 1 roots, 34 extra nodes, 0 pruned nodes, max_depth=5\u001b[0m\n",
      "\u001b[34m[4]#011train-error:0.04717#011validation-error:0.208791\u001b[0m\n",
      "\u001b[34m[01:01:07] src/tree/updater_prune.cc:74: tree pruning end, 1 roots, 24 extra nodes, 0 pruned nodes, max_depth=5\u001b[0m\n",
      "\u001b[34m[5]#011train-error:0.04717#011validation-error:0.208791\u001b[0m\n",
      "\u001b[34m[01:01:07] src/tree/updater_prune.cc:74: tree pruning end, 1 roots, 36 extra nodes, 0 pruned nodes, max_depth=5\u001b[0m\n",
      "\u001b[34m[6]#011train-error:0.037736#011validation-error:0.21978\u001b[0m\n",
      "\u001b[34m[01:01:07] src/tree/updater_prune.cc:74: tree pruning end, 1 roots, 30 extra nodes, 0 pruned nodes, max_depth=5\u001b[0m\n",
      "\u001b[34m[7]#011train-error:0.033019#011validation-error:0.197802\u001b[0m\n",
      "\u001b[34m[01:01:07] src/tree/updater_prune.cc:74: tree pruning end, 1 roots, 20 extra nodes, 0 pruned nodes, max_depth=5\u001b[0m\n",
      "\u001b[34m[8]#011train-error:0.028302#011validation-error:0.186813\u001b[0m\n",
      "\u001b[34m[01:01:07] src/tree/updater_prune.cc:74: tree pruning end, 1 roots, 22 extra nodes, 0 pruned nodes, max_depth=5\u001b[0m\n",
      "\u001b[34m[9]#011train-error:0.018868#011validation-error:0.175824\u001b[0m\n",
      "\u001b[34m[01:01:07] src/tree/updater_prune.cc:74: tree pruning end, 1 roots, 24 extra nodes, 0 pruned nodes, max_depth=5\u001b[0m\n",
      "\u001b[34m[10]#011train-error:0.018868#011validation-error:0.175824\u001b[0m\n",
      "\u001b[34m[01:01:07] src/tree/updater_prune.cc:74: tree pruning end, 1 roots, 22 extra nodes, 0 pruned nodes, max_depth=5\u001b[0m\n",
      "\u001b[34m[11]#011train-error:0.023585#011validation-error:0.186813\u001b[0m\n",
      "\u001b[34m[01:01:07] src/tree/updater_prune.cc:74: tree pruning end, 1 roots, 20 extra nodes, 0 pruned nodes, max_depth=5\u001b[0m\n",
      "\u001b[34m[12]#011train-error:0.018868#011validation-error:0.175824\u001b[0m\n",
      "\u001b[34m[01:01:07] src/tree/updater_prune.cc:74: tree pruning end, 1 roots, 20 extra nodes, 0 pruned nodes, max_depth=5\u001b[0m\n",
      "\u001b[34m[13]#011train-error:0.014151#011validation-error:0.175824\u001b[0m\n",
      "\u001b[34m[01:01:07] src/tree/updater_prune.cc:74: tree pruning end, 1 roots, 24 extra nodes, 0 pruned nodes, max_depth=5\u001b[0m\n",
      "\u001b[34m[14]#011train-error:0.009434#011validation-error:0.186813\u001b[0m\n",
      "\u001b[34m[01:01:07] src/tree/updater_prune.cc:74: tree pruning end, 1 roots, 22 extra nodes, 0 pruned nodes, max_depth=5\u001b[0m\n",
      "\u001b[34m[15]#011train-error:0.004717#011validation-error:0.186813\u001b[0m\n",
      "\u001b[34m[01:01:07] src/tree/updater_prune.cc:74: tree pruning end, 1 roots, 24 extra nodes, 0 pruned nodes, max_depth=5\u001b[0m\n",
      "\u001b[34m[16]#011train-error:0.004717#011validation-error:0.186813\u001b[0m\n",
      "\u001b[34m[01:01:07] src/tree/updater_prune.cc:74: tree pruning end, 1 roots, 18 extra nodes, 0 pruned nodes, max_depth=5\u001b[0m\n",
      "\u001b[34m[17]#011train-error:0.004717#011validation-error:0.186813\u001b[0m\n",
      "\u001b[34m[01:01:07] src/tree/updater_prune.cc:74: tree pruning end, 1 roots, 18 extra nodes, 0 pruned nodes, max_depth=5\u001b[0m\n",
      "\u001b[34m[18]#011train-error:0#011validation-error:0.186813\u001b[0m\n",
      "\u001b[34m[01:01:07] src/tree/updater_prune.cc:74: tree pruning end, 1 roots, 20 extra nodes, 0 pruned nodes, max_depth=5\u001b[0m\n",
      "\u001b[34m[19]#011train-error:0#011validation-error:0.197802\u001b[0m\n",
      "\u001b[34m[01:01:07] src/tree/updater_prune.cc:74: tree pruning end, 1 roots, 16 extra nodes, 0 pruned nodes, max_depth=4\u001b[0m\n",
      "\u001b[34m[20]#011train-error:0#011validation-error:0.186813\u001b[0m\n",
      "\u001b[34m[01:01:07] src/tree/updater_prune.cc:74: tree pruning end, 1 roots, 18 extra nodes, 0 pruned nodes, max_depth=5\u001b[0m\n",
      "\u001b[34m[21]#011train-error:0#011validation-error:0.197802\u001b[0m\n",
      "\u001b[34m[01:01:07] src/tree/updater_prune.cc:74: tree pruning end, 1 roots, 18 extra nodes, 0 pruned nodes, max_depth=4\u001b[0m\n",
      "\u001b[34m[22]#011train-error:0#011validation-error:0.197802\u001b[0m\n",
      "\u001b[34m[01:01:07] src/tree/updater_prune.cc:74: tree pruning end, 1 roots, 18 extra nodes, 0 pruned nodes, max_depth=5\u001b[0m\n",
      "\u001b[34m[23]#011train-error:0#011validation-error:0.197802\u001b[0m\n",
      "\u001b[34m[01:01:07] src/tree/updater_prune.cc:74: tree pruning end, 1 roots, 16 extra nodes, 0 pruned nodes, max_depth=5\u001b[0m\n",
      "\u001b[34m[24]#011train-error:0#011validation-error:0.186813\u001b[0m\n",
      "\u001b[34m[01:01:07] src/tree/updater_prune.cc:74: tree pruning end, 1 roots, 18 extra nodes, 0 pruned nodes, max_depth=5\u001b[0m\n",
      "\u001b[34m[25]#011train-error:0#011validation-error:0.208791\u001b[0m\n",
      "\u001b[34m[01:01:07] src/tree/updater_prune.cc:74: tree pruning end, 1 roots, 14 extra nodes, 0 pruned nodes, max_depth=4\u001b[0m\n",
      "\u001b[34m[26]#011train-error:0#011validation-error:0.186813\u001b[0m\n",
      "\u001b[34m[01:01:07] src/tree/updater_prune.cc:74: tree pruning end, 1 roots, 14 extra nodes, 0 pruned nodes, max_depth=4\u001b[0m\n",
      "\u001b[34m[27]#011train-error:0#011validation-error:0.175824\u001b[0m\n",
      "\u001b[34m[01:01:07] src/tree/updater_prune.cc:74: tree pruning end, 1 roots, 14 extra nodes, 0 pruned nodes, max_depth=4\u001b[0m\n",
      "\u001b[34m[28]#011train-error:0#011validation-error:0.175824\u001b[0m\n",
      "\u001b[34m[01:01:07] src/tree/updater_prune.cc:74: tree pruning end, 1 roots, 14 extra nodes, 0 pruned nodes, max_depth=4\u001b[0m\n",
      "\u001b[34m[29]#011train-error:0#011validation-error:0.186813\u001b[0m\n",
      "\u001b[34m[01:01:07] src/tree/updater_prune.cc:74: tree pruning end, 1 roots, 14 extra nodes, 0 pruned nodes, max_depth=3\u001b[0m\n",
      "\u001b[34m[30]#011train-error:0#011validation-error:0.186813\u001b[0m\n",
      "\u001b[34m[01:01:07] src/tree/updater_prune.cc:74: tree pruning end, 1 roots, 14 extra nodes, 0 pruned nodes, max_depth=5\u001b[0m\n",
      "\u001b[34m[31]#011train-error:0#011validation-error:0.175824\u001b[0m\n",
      "\u001b[34m[01:01:07] src/tree/updater_prune.cc:74: tree pruning end, 1 roots, 14 extra nodes, 0 pruned nodes, max_depth=5\u001b[0m\n",
      "\u001b[34m[32]#011train-error:0#011validation-error:0.197802\u001b[0m\n",
      "\u001b[34m[01:01:07] src/tree/updater_prune.cc:74: tree pruning end, 1 roots, 14 extra nodes, 0 pruned nodes, max_depth=4\u001b[0m\n",
      "\u001b[34m[33]#011train-error:0#011validation-error:0.197802\u001b[0m\n",
      "\u001b[34m[01:01:07] src/tree/updater_prune.cc:74: tree pruning end, 1 roots, 12 extra nodes, 0 pruned nodes, max_depth=4\u001b[0m\n",
      "\u001b[34m[34]#011train-error:0#011validation-error:0.186813\u001b[0m\n",
      "\u001b[34m[01:01:07] src/tree/updater_prune.cc:74: tree pruning end, 1 roots, 14 extra nodes, 0 pruned nodes, max_depth=4\u001b[0m\n",
      "\u001b[34m[35]#011train-error:0#011validation-error:0.175824\u001b[0m\n",
      "\u001b[34m[01:01:07] src/tree/updater_prune.cc:74: tree pruning end, 1 roots, 14 extra nodes, 0 pruned nodes, max_depth=5\u001b[0m\n",
      "\u001b[34m[36]#011train-error:0#011validation-error:0.186813\u001b[0m\n",
      "\u001b[34m[01:01:07] src/tree/updater_prune.cc:74: tree pruning end, 1 roots, 12 extra nodes, 0 pruned nodes, max_depth=5\u001b[0m\n",
      "\u001b[34m[37]#011train-error:0#011validation-error:0.186813\u001b[0m\n",
      "\u001b[34m[01:01:07] src/tree/updater_prune.cc:74: tree pruning end, 1 roots, 10 extra nodes, 0 pruned nodes, max_depth=3\u001b[0m\n",
      "\u001b[34m[38]#011train-error:0#011validation-error:0.186813\u001b[0m\n",
      "\u001b[34m[01:01:07] src/tree/updater_prune.cc:74: tree pruning end, 1 roots, 12 extra nodes, 0 pruned nodes, max_depth=4\u001b[0m\n",
      "\u001b[34m[39]#011train-error:0#011validation-error:0.175824\u001b[0m\n",
      "\u001b[34m[01:01:07] src/tree/updater_prune.cc:74: tree pruning end, 1 roots, 12 extra nodes, 0 pruned nodes, max_depth=5\u001b[0m\n",
      "\u001b[34m[40]#011train-error:0#011validation-error:0.186813\u001b[0m\n",
      "\u001b[34m[01:01:07] src/tree/updater_prune.cc:74: tree pruning end, 1 roots, 14 extra nodes, 0 pruned nodes, max_depth=5\u001b[0m\n",
      "\u001b[34m[41]#011train-error:0#011validation-error:0.175824\u001b[0m\n",
      "\u001b[34m[01:01:07] src/tree/updater_prune.cc:74: tree pruning end, 1 roots, 12 extra nodes, 0 pruned nodes, max_depth=5\u001b[0m\n",
      "\u001b[34m[42]#011train-error:0#011validation-error:0.175824\u001b[0m\n",
      "\u001b[34m[01:01:07] src/tree/updater_prune.cc:74: tree pruning end, 1 roots, 10 extra nodes, 0 pruned nodes, max_depth=4\u001b[0m\n",
      "\u001b[34m[43]#011train-error:0#011validation-error:0.164835\u001b[0m\n",
      "\u001b[34m[01:01:07] src/tree/updater_prune.cc:74: tree pruning end, 1 roots, 12 extra nodes, 0 pruned nodes, max_depth=4\u001b[0m\n",
      "\u001b[34m[44]#011train-error:0#011validation-error:0.175824\u001b[0m\n",
      "\u001b[34m[01:01:07] src/tree/updater_prune.cc:74: tree pruning end, 1 roots, 10 extra nodes, 0 pruned nodes, max_depth=3\u001b[0m\n",
      "\u001b[34m[45]#011train-error:0#011validation-error:0.186813\u001b[0m\n",
      "\u001b[34m[01:01:07] src/tree/updater_prune.cc:74: tree pruning end, 1 roots, 10 extra nodes, 0 pruned nodes, max_depth=4\u001b[0m\n",
      "\u001b[34m[46]#011train-error:0#011validation-error:0.175824\u001b[0m\n",
      "\u001b[34m[01:01:07] src/tree/updater_prune.cc:74: tree pruning end, 1 roots, 12 extra nodes, 0 pruned nodes, max_depth=4\u001b[0m\n",
      "\u001b[34m[47]#011train-error:0#011validation-error:0.175824\u001b[0m\n",
      "\u001b[34m[01:01:07] src/tree/updater_prune.cc:74: tree pruning end, 1 roots, 10 extra nodes, 0 pruned nodes, max_depth=4\u001b[0m\n",
      "\u001b[34m[48]#011train-error:0#011validation-error:0.186813\u001b[0m\n",
      "\u001b[34m[01:01:07] src/tree/updater_prune.cc:74: tree pruning end, 1 roots, 12 extra nodes, 0 pruned nodes, max_depth=5\u001b[0m\n",
      "\u001b[34m[49]#011train-error:0#011validation-error:0.164835\u001b[0m\n",
      "\n",
      "2025-10-04 01:01:14 Training - Training image download completed. Training in progress.\n",
      "2025-10-04 01:01:14 Uploading - Uploading generated training model\n",
      "2025-10-04 01:01:27 Completed - Training job completed\n",
      "Training seconds: 95\n",
      "Billable seconds: 95\n"
     ]
    }
   ],
   "source": [
    "estimator.fit({\"train\": train_input, \"validation\": test_input})"
   ]
  },
  {
   "cell_type": "markdown",
   "id": "dace3f6c-9769-4e13-9bb1-3b23462155ec",
   "metadata": {},
   "source": [
    "## Realizar deploy"
   ]
  },
  {
   "cell_type": "code",
   "execution_count": null,
   "id": "7cc423de-600f-4e79-a598-ee1a6c6b0843",
   "metadata": {},
   "outputs": [],
   "source": [
    "from sagemaker.serializers import CSVSerializer\n",
    "from sagemaker.deserializers import CSVDeserializer\n",
    "deployed  = estimator.deploy(initial_instance_count=1, \n",
    "                             instance_type=\"ml.m5.xlarge\",\n",
    "                             serializer=CSVSerializer(),\n",
    "                             deserializer=CSVDeserializer())\n",
    "                             "
   ]
  },
  {
   "cell_type": "code",
   "execution_count": null,
   "id": "4b6e1ced-9c37-419e-b9d7-8309fa64ceaf",
   "metadata": {},
   "outputs": [],
   "source": []
  },
  {
   "cell_type": "code",
   "execution_count": null,
   "id": "84db5da7-b194-4052-b181-91d228b37d5a",
   "metadata": {},
   "outputs": [],
   "source": []
  }
 ],
 "metadata": {
  "kernelspec": {
   "display_name": "conda_python3",
   "language": "python",
   "name": "conda_python3"
  },
  "language_info": {
   "codemirror_mode": {
    "name": "ipython",
    "version": 3
   },
   "file_extension": ".py",
   "mimetype": "text/x-python",
   "name": "python",
   "nbconvert_exporter": "python",
   "pygments_lexer": "ipython3",
   "version": "3.10.18"
  }
 },
 "nbformat": 4,
 "nbformat_minor": 5
}
